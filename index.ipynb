{
  "cells": [
    {
      "cell_type": "markdown",
      "metadata": {},
      "source": [
        "# FDTD_ML_V4\n",
        "This is a test notebook for running pymeep with autograd/nlopt support."
      ]
    }
  ],
  "metadata": {
    "kernelspec": {
      "display_name": "Python (mp)",
      "language": "python",
      "name": "mp"
    },
    "language_info": {
      "name": "python",
      "version": "3.10"
    }
  },
  "nbformat": 4,
  "nbformat_minor": 5
}